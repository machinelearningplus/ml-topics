{
 "cells": [
  {
   "cell_type": "markdown",
   "metadata": {},
   "source": [
    "# Bayesian Hyper Parameter Tuning with Optuna"
   ]
  },
  {
   "cell_type": "markdown",
   "metadata": {},
   "source": [
    "Bayesian Optimization is a method used for optimizing expensive-to-evaluate functions, particularly useful in hyperparameter tuning for machine learning models. Here's a clear explanation of how it works and the math behind it:\n",
    "\n",
    "Blog post: [Bayesian optimization for hyper parameter tuning](https://www.machinelearningplus.com/machine-learning/bayesian-optimization-for-hyperparameter-tuning/)\n",
    "\n",
    "## Overview of Bayesian Optimization\n",
    "\n",
    "__1. Surrogate Model:__ Bayesian optimization builds a probabilistic model of the objective function (often using Gaussian processes or other regression models).\n",
    "\n",
    "__2. Acquisition Function:__ It uses this model to guide the search for the next set of hyperparameters to evaluate by optimizing an acquisition function.\n",
    "\n",
    "__3. Evaluate and Update:__ The chosen hyperparameters are evaluated using the true objective function (e.g., model performance on validation data). The surrogate model is then updated with this new information.\n",
    "\n",
    "__4. Iterate:__ Steps 2 and 3 are repeated until a stopping criterion is met (e.g., a fixed number of iterations or convergence)."
   ]
  },
  {
   "cell_type": "code",
   "execution_count": 2,
   "metadata": {},
   "outputs": [],
   "source": [
    "# pip install optuna scikit-learn"
   ]
  },
  {
   "cell_type": "markdown",
   "metadata": {},
   "source": [
    "## Import packages and dataset"
   ]
  },
  {
   "cell_type": "code",
   "execution_count": 3,
   "metadata": {},
   "outputs": [],
   "source": [
    "import optuna\n",
    "import numpy as np\n",
    "import pandas as pd\n",
    "from sklearn.datasets import load_breast_cancer\n",
    "from sklearn.model_selection import train_test_split\n",
    "from sklearn.ensemble import RandomForestClassifier\n",
    "from sklearn.metrics import accuracy_score\n",
    "\n",
    "# Load the dataset\n",
    "data = load_breast_cancer()\n",
    "X = pd.DataFrame(data.data, columns=data.feature_names)\n",
    "y = data.target\n",
    "\n",
    "# Split the dataset into training and validation sets\n",
    "X_train, X_val, y_train, y_val = train_test_split(X, y, test_size=0.2, random_state=42)"
   ]
  },
  {
   "cell_type": "markdown",
   "metadata": {},
   "source": [
    "## Define the objective function"
   ]
  },
  {
   "cell_type": "code",
   "execution_count": 4,
   "metadata": {},
   "outputs": [],
   "source": [
    "def objective(trial):\n",
    "    params = {\n",
    "        'n_estimators': trial.suggest_int('n_estimators', 100, 1000, step=100),\n",
    "        'max_depth': trial.suggest_int('max_depth', 3, 15),\n",
    "        'min_samples_split': trial.suggest_int('min_samples_split', 2, 20),\n",
    "        'min_samples_leaf': trial.suggest_int('min_samples_leaf', 1, 10),\n",
    "        'max_features': trial.suggest_categorical('max_features', ['sqrt', 'log2'])\n",
    "    }\n",
    "    \n",
    "    model = RandomForestClassifier(random_state=42, **params)\n",
    "    model.fit(X_train, y_train)\n",
    "    val_preds = model.predict(X_val)\n",
    "    accuracy = accuracy_score(y_val, val_preds)\n",
    "    return accuracy\n"
   ]
  },
  {
   "cell_type": "markdown",
   "metadata": {},
   "source": [
    "## Run Optuna Bayesian Optimization"
   ]
  },
  {
   "cell_type": "code",
   "execution_count": 5,
   "metadata": {},
   "outputs": [
    {
     "name": "stderr",
     "output_type": "stream",
     "text": [
      "[I 2024-08-02 07:34:06,703] A new study created in memory with name: no-name-464d5fb0-21a8-40d2-8925-15deccd4f719\n",
      "[I 2024-08-02 07:34:08,625] Trial 0 finished with value: 0.9649122807017544 and parameters: {'n_estimators': 800, 'max_depth': 7, 'min_samples_split': 11, 'min_samples_leaf': 7, 'max_features': 'sqrt'}. Best is trial 0 with value: 0.9649122807017544.\n",
      "[I 2024-08-02 07:34:09,581] Trial 1 finished with value: 0.9649122807017544 and parameters: {'n_estimators': 500, 'max_depth': 15, 'min_samples_split': 13, 'min_samples_leaf': 5, 'max_features': 'log2'}. Best is trial 0 with value: 0.9649122807017544.\n",
      "[I 2024-08-02 07:34:10,145] Trial 2 finished with value: 0.9649122807017544 and parameters: {'n_estimators': 300, 'max_depth': 11, 'min_samples_split': 15, 'min_samples_leaf': 10, 'max_features': 'log2'}. Best is trial 0 with value: 0.9649122807017544.\n",
      "[I 2024-08-02 07:34:12,117] Trial 3 finished with value: 0.9649122807017544 and parameters: {'n_estimators': 1000, 'max_depth': 9, 'min_samples_split': 6, 'min_samples_leaf': 4, 'max_features': 'log2'}. Best is trial 0 with value: 0.9649122807017544.\n",
      "[I 2024-08-02 07:34:13,476] Trial 4 finished with value: 0.9649122807017544 and parameters: {'n_estimators': 700, 'max_depth': 6, 'min_samples_split': 15, 'min_samples_leaf': 3, 'max_features': 'log2'}. Best is trial 0 with value: 0.9649122807017544.\n",
      "[I 2024-08-02 07:34:15,512] Trial 5 finished with value: 0.9649122807017544 and parameters: {'n_estimators': 900, 'max_depth': 15, 'min_samples_split': 18, 'min_samples_leaf': 3, 'max_features': 'sqrt'}. Best is trial 0 with value: 0.9649122807017544.\n",
      "[I 2024-08-02 07:34:17,156] Trial 6 finished with value: 0.9649122807017544 and parameters: {'n_estimators': 700, 'max_depth': 4, 'min_samples_split': 16, 'min_samples_leaf': 10, 'max_features': 'log2'}. Best is trial 0 with value: 0.9649122807017544.\n",
      "[I 2024-08-02 07:34:18,877] Trial 7 finished with value: 0.9649122807017544 and parameters: {'n_estimators': 700, 'max_depth': 9, 'min_samples_split': 2, 'min_samples_leaf': 6, 'max_features': 'sqrt'}. Best is trial 0 with value: 0.9649122807017544.\n",
      "[I 2024-08-02 07:34:19,737] Trial 8 finished with value: 0.9649122807017544 and parameters: {'n_estimators': 400, 'max_depth': 7, 'min_samples_split': 18, 'min_samples_leaf': 4, 'max_features': 'log2'}. Best is trial 0 with value: 0.9649122807017544.\n",
      "[I 2024-08-02 07:34:20,243] Trial 9 finished with value: 0.9649122807017544 and parameters: {'n_estimators': 200, 'max_depth': 9, 'min_samples_split': 19, 'min_samples_leaf': 8, 'max_features': 'sqrt'}. Best is trial 0 with value: 0.9649122807017544.\n",
      "[I 2024-08-02 07:34:20,551] Trial 10 finished with value: 0.9649122807017544 and parameters: {'n_estimators': 100, 'max_depth': 3, 'min_samples_split': 9, 'min_samples_leaf': 1, 'max_features': 'sqrt'}. Best is trial 0 with value: 0.9649122807017544.\n",
      "[I 2024-08-02 07:34:21,759] Trial 11 finished with value: 0.9649122807017544 and parameters: {'n_estimators': 500, 'max_depth': 15, 'min_samples_split': 12, 'min_samples_leaf': 7, 'max_features': 'sqrt'}. Best is trial 0 with value: 0.9649122807017544.\n",
      "[I 2024-08-02 07:34:23,496] Trial 12 finished with value: 0.9649122807017544 and parameters: {'n_estimators': 800, 'max_depth': 12, 'min_samples_split': 11, 'min_samples_leaf': 8, 'max_features': 'sqrt'}. Best is trial 0 with value: 0.9649122807017544.\n",
      "[I 2024-08-02 07:34:24,552] Trial 13 finished with value: 0.9649122807017544 and parameters: {'n_estimators': 500, 'max_depth': 12, 'min_samples_split': 8, 'min_samples_leaf': 6, 'max_features': 'log2'}. Best is trial 0 with value: 0.9649122807017544.\n",
      "[I 2024-08-02 07:34:25,872] Trial 14 finished with value: 0.9649122807017544 and parameters: {'n_estimators': 600, 'max_depth': 6, 'min_samples_split': 12, 'min_samples_leaf': 5, 'max_features': 'log2'}. Best is trial 0 with value: 0.9649122807017544.\n",
      "[I 2024-08-02 07:34:28,307] Trial 15 finished with value: 0.9649122807017544 and parameters: {'n_estimators': 1000, 'max_depth': 13, 'min_samples_split': 5, 'min_samples_leaf': 8, 'max_features': 'sqrt'}. Best is trial 0 with value: 0.9649122807017544.\n",
      "[I 2024-08-02 07:34:29,403] Trial 16 finished with value: 0.9649122807017544 and parameters: {'n_estimators': 400, 'max_depth': 5, 'min_samples_split': 13, 'min_samples_leaf': 1, 'max_features': 'log2'}. Best is trial 0 with value: 0.9649122807017544.\n",
      "[I 2024-08-02 07:34:31,606] Trial 17 finished with value: 0.9649122807017544 and parameters: {'n_estimators': 800, 'max_depth': 7, 'min_samples_split': 9, 'min_samples_leaf': 7, 'max_features': 'sqrt'}. Best is trial 0 with value: 0.9649122807017544.\n",
      "[I 2024-08-02 07:34:33,158] Trial 18 finished with value: 0.9649122807017544 and parameters: {'n_estimators': 600, 'max_depth': 10, 'min_samples_split': 14, 'min_samples_leaf': 5, 'max_features': 'log2'}. Best is trial 0 with value: 0.9649122807017544.\n",
      "[I 2024-08-02 07:34:35,609] Trial 19 finished with value: 0.9649122807017544 and parameters: {'n_estimators': 800, 'max_depth': 14, 'min_samples_split': 10, 'min_samples_leaf': 9, 'max_features': 'sqrt'}. Best is trial 0 with value: 0.9649122807017544.\n",
      "[I 2024-08-02 07:34:37,471] Trial 20 finished with value: 0.9649122807017544 and parameters: {'n_estimators': 400, 'max_depth': 8, 'min_samples_split': 7, 'min_samples_leaf': 7, 'max_features': 'log2'}. Best is trial 0 with value: 0.9649122807017544.\n",
      "[I 2024-08-02 07:34:38,368] Trial 21 finished with value: 0.9649122807017544 and parameters: {'n_estimators': 300, 'max_depth': 11, 'min_samples_split': 16, 'min_samples_leaf': 10, 'max_features': 'log2'}. Best is trial 0 with value: 0.9649122807017544.\n",
      "[I 2024-08-02 07:34:39,460] Trial 22 finished with value: 0.9649122807017544 and parameters: {'n_estimators': 300, 'max_depth': 11, 'min_samples_split': 14, 'min_samples_leaf': 9, 'max_features': 'log2'}. Best is trial 0 with value: 0.9649122807017544.\n",
      "[I 2024-08-02 07:34:40,008] Trial 23 finished with value: 0.9649122807017544 and parameters: {'n_estimators': 200, 'max_depth': 13, 'min_samples_split': 16, 'min_samples_leaf': 4, 'max_features': 'log2'}. Best is trial 0 with value: 0.9649122807017544.\n",
      "[I 2024-08-02 07:34:40,724] Trial 24 finished with value: 0.9649122807017544 and parameters: {'n_estimators': 300, 'max_depth': 14, 'min_samples_split': 11, 'min_samples_leaf': 6, 'max_features': 'log2'}. Best is trial 0 with value: 0.9649122807017544.\n",
      "[I 2024-08-02 07:34:42,188] Trial 25 finished with value: 0.9649122807017544 and parameters: {'n_estimators': 500, 'max_depth': 10, 'min_samples_split': 14, 'min_samples_leaf': 9, 'max_features': 'log2'}. Best is trial 0 with value: 0.9649122807017544.\n",
      "[I 2024-08-02 07:34:42,671] Trial 26 finished with value: 0.9649122807017544 and parameters: {'n_estimators': 100, 'max_depth': 8, 'min_samples_split': 20, 'min_samples_leaf': 10, 'max_features': 'sqrt'}. Best is trial 0 with value: 0.9649122807017544.\n",
      "[I 2024-08-02 07:34:44,839] Trial 27 finished with value: 0.9649122807017544 and parameters: {'n_estimators': 600, 'max_depth': 12, 'min_samples_split': 12, 'min_samples_leaf': 3, 'max_features': 'log2'}. Best is trial 0 with value: 0.9649122807017544.\n",
      "[I 2024-08-02 07:34:48,765] Trial 28 finished with value: 0.9649122807017544 and parameters: {'n_estimators': 900, 'max_depth': 5, 'min_samples_split': 17, 'min_samples_leaf': 5, 'max_features': 'sqrt'}. Best is trial 0 with value: 0.9649122807017544.\n",
      "[I 2024-08-02 07:34:53,064] Trial 29 finished with value: 0.9649122807017544 and parameters: {'n_estimators': 1000, 'max_depth': 10, 'min_samples_split': 4, 'min_samples_leaf': 2, 'max_features': 'log2'}. Best is trial 0 with value: 0.9649122807017544.\n",
      "[I 2024-08-02 07:34:54,162] Trial 30 finished with value: 0.9649122807017544 and parameters: {'n_estimators': 400, 'max_depth': 8, 'min_samples_split': 13, 'min_samples_leaf': 4, 'max_features': 'log2'}. Best is trial 0 with value: 0.9649122807017544.\n",
      "[I 2024-08-02 07:34:57,330] Trial 31 finished with value: 0.9649122807017544 and parameters: {'n_estimators': 900, 'max_depth': 7, 'min_samples_split': 7, 'min_samples_leaf': 4, 'max_features': 'log2'}. Best is trial 0 with value: 0.9649122807017544.\n",
      "[I 2024-08-02 07:35:00,832] Trial 32 finished with value: 0.9649122807017544 and parameters: {'n_estimators': 1000, 'max_depth': 6, 'min_samples_split': 6, 'min_samples_leaf': 3, 'max_features': 'log2'}. Best is trial 0 with value: 0.9649122807017544.\n",
      "[I 2024-08-02 07:35:02,601] Trial 33 finished with value: 0.9649122807017544 and parameters: {'n_estimators': 700, 'max_depth': 15, 'min_samples_split': 2, 'min_samples_leaf': 5, 'max_features': 'log2'}. Best is trial 0 with value: 0.9649122807017544.\n",
      "[I 2024-08-02 07:35:04,855] Trial 34 finished with value: 0.9649122807017544 and parameters: {'n_estimators': 900, 'max_depth': 9, 'min_samples_split': 15, 'min_samples_leaf': 2, 'max_features': 'log2'}. Best is trial 0 with value: 0.9649122807017544.\n",
      "[I 2024-08-02 07:35:06,413] Trial 35 finished with value: 0.9649122807017544 and parameters: {'n_estimators': 700, 'max_depth': 11, 'min_samples_split': 4, 'min_samples_leaf': 6, 'max_features': 'log2'}. Best is trial 0 with value: 0.9649122807017544.\n",
      "[I 2024-08-02 07:35:08,543] Trial 36 finished with value: 0.9649122807017544 and parameters: {'n_estimators': 900, 'max_depth': 8, 'min_samples_split': 15, 'min_samples_leaf': 7, 'max_features': 'sqrt'}. Best is trial 0 with value: 0.9649122807017544.\n",
      "[I 2024-08-02 07:35:11,567] Trial 37 finished with value: 0.9649122807017544 and parameters: {'n_estimators': 800, 'max_depth': 7, 'min_samples_split': 17, 'min_samples_leaf': 4, 'max_features': 'log2'}. Best is trial 0 with value: 0.9649122807017544.\n",
      "[I 2024-08-02 07:35:12,335] Trial 38 finished with value: 0.9649122807017544 and parameters: {'n_estimators': 200, 'max_depth': 9, 'min_samples_split': 10, 'min_samples_leaf': 6, 'max_features': 'sqrt'}. Best is trial 0 with value: 0.9649122807017544.\n",
      "[I 2024-08-02 07:35:13,845] Trial 39 finished with value: 0.9649122807017544 and parameters: {'n_estimators': 700, 'max_depth': 5, 'min_samples_split': 18, 'min_samples_leaf': 8, 'max_features': 'log2'}. Best is trial 0 with value: 0.9649122807017544.\n",
      "[I 2024-08-02 07:35:16,546] Trial 40 finished with value: 0.9649122807017544 and parameters: {'n_estimators': 1000, 'max_depth': 14, 'min_samples_split': 10, 'min_samples_leaf': 2, 'max_features': 'sqrt'}. Best is trial 0 with value: 0.9649122807017544.\n",
      "[I 2024-08-02 07:35:18,302] Trial 41 finished with value: 0.9649122807017544 and parameters: {'n_estimators': 700, 'max_depth': 4, 'min_samples_split': 15, 'min_samples_leaf': 3, 'max_features': 'log2'}. Best is trial 0 with value: 0.9649122807017544.\n",
      "[I 2024-08-02 07:35:19,693] Trial 42 finished with value: 0.9649122807017544 and parameters: {'n_estimators': 600, 'max_depth': 6, 'min_samples_split': 13, 'min_samples_leaf': 3, 'max_features': 'log2'}. Best is trial 0 with value: 0.9649122807017544.\n",
      "[I 2024-08-02 07:35:20,700] Trial 43 finished with value: 0.9649122807017544 and parameters: {'n_estimators': 500, 'max_depth': 4, 'min_samples_split': 17, 'min_samples_leaf': 4, 'max_features': 'log2'}. Best is trial 0 with value: 0.9649122807017544.\n",
      "[I 2024-08-02 07:35:22,471] Trial 44 finished with value: 0.9649122807017544 and parameters: {'n_estimators': 800, 'max_depth': 7, 'min_samples_split': 19, 'min_samples_leaf': 5, 'max_features': 'log2'}. Best is trial 0 with value: 0.9649122807017544.\n",
      "[I 2024-08-02 07:35:23,877] Trial 45 finished with value: 0.9649122807017544 and parameters: {'n_estimators': 600, 'max_depth': 6, 'min_samples_split': 12, 'min_samples_leaf': 2, 'max_features': 'sqrt'}. Best is trial 0 with value: 0.9649122807017544.\n",
      "[I 2024-08-02 07:35:25,442] Trial 46 finished with value: 0.9649122807017544 and parameters: {'n_estimators': 800, 'max_depth': 3, 'min_samples_split': 11, 'min_samples_leaf': 3, 'max_features': 'log2'}. Best is trial 0 with value: 0.9649122807017544.\n",
      "[I 2024-08-02 07:35:26,572] Trial 47 finished with value: 0.9649122807017544 and parameters: {'n_estimators': 500, 'max_depth': 9, 'min_samples_split': 3, 'min_samples_leaf': 6, 'max_features': 'sqrt'}. Best is trial 0 with value: 0.9649122807017544.\n",
      "[I 2024-08-02 07:35:28,026] Trial 48 finished with value: 0.9649122807017544 and parameters: {'n_estimators': 700, 'max_depth': 12, 'min_samples_split': 9, 'min_samples_leaf': 7, 'max_features': 'log2'}. Best is trial 0 with value: 0.9649122807017544.\n",
      "[I 2024-08-02 07:35:28,888] Trial 49 finished with value: 0.9649122807017544 and parameters: {'n_estimators': 400, 'max_depth': 13, 'min_samples_split': 16, 'min_samples_leaf': 5, 'max_features': 'log2'}. Best is trial 0 with value: 0.9649122807017544.\n",
      "[I 2024-08-02 07:35:29,131] Trial 50 finished with value: 0.9649122807017544 and parameters: {'n_estimators': 100, 'max_depth': 10, 'min_samples_split': 8, 'min_samples_leaf': 10, 'max_features': 'sqrt'}. Best is trial 0 with value: 0.9649122807017544.\n",
      "[I 2024-08-02 07:35:31,217] Trial 51 finished with value: 0.9649122807017544 and parameters: {'n_estimators': 900, 'max_depth': 15, 'min_samples_split': 18, 'min_samples_leaf': 1, 'max_features': 'sqrt'}. Best is trial 0 with value: 0.9649122807017544.\n",
      "[I 2024-08-02 07:35:33,266] Trial 52 finished with value: 0.9649122807017544 and parameters: {'n_estimators': 900, 'max_depth': 15, 'min_samples_split': 14, 'min_samples_leaf': 4, 'max_features': 'sqrt'}. Best is trial 0 with value: 0.9649122807017544.\n",
      "[I 2024-08-02 07:35:35,016] Trial 53 finished with value: 0.9649122807017544 and parameters: {'n_estimators': 800, 'max_depth': 13, 'min_samples_split': 20, 'min_samples_leaf': 9, 'max_features': 'sqrt'}. Best is trial 0 with value: 0.9649122807017544.\n",
      "[I 2024-08-02 07:35:37,599] Trial 54 finished with value: 0.9649122807017544 and parameters: {'n_estimators': 1000, 'max_depth': 14, 'min_samples_split': 15, 'min_samples_leaf': 3, 'max_features': 'sqrt'}. Best is trial 0 with value: 0.9649122807017544.\n",
      "[I 2024-08-02 07:35:38,790] Trial 55 finished with value: 0.9649122807017544 and parameters: {'n_estimators': 300, 'max_depth': 5, 'min_samples_split': 13, 'min_samples_leaf': 4, 'max_features': 'log2'}. Best is trial 0 with value: 0.9649122807017544.\n",
      "[I 2024-08-02 07:35:41,262] Trial 56 finished with value: 0.9649122807017544 and parameters: {'n_estimators': 1000, 'max_depth': 15, 'min_samples_split': 16, 'min_samples_leaf': 2, 'max_features': 'sqrt'}. Best is trial 0 with value: 0.9649122807017544.\n",
      "[I 2024-08-02 07:35:43,266] Trial 57 finished with value: 0.9649122807017544 and parameters: {'n_estimators': 900, 'max_depth': 8, 'min_samples_split': 18, 'min_samples_leaf': 8, 'max_features': 'log2'}. Best is trial 0 with value: 0.9649122807017544.\n",
      "[I 2024-08-02 07:35:45,344] Trial 58 finished with value: 0.9649122807017544 and parameters: {'n_estimators': 800, 'max_depth': 14, 'min_samples_split': 19, 'min_samples_leaf': 5, 'max_features': 'sqrt'}. Best is trial 0 with value: 0.9649122807017544.\n",
      "[I 2024-08-02 07:35:45,855] Trial 59 finished with value: 0.9649122807017544 and parameters: {'n_estimators': 200, 'max_depth': 11, 'min_samples_split': 11, 'min_samples_leaf': 3, 'max_features': 'log2'}. Best is trial 0 with value: 0.9649122807017544.\n",
      "[I 2024-08-02 07:35:46,857] Trial 60 finished with value: 0.9649122807017544 and parameters: {'n_estimators': 400, 'max_depth': 12, 'min_samples_split': 13, 'min_samples_leaf': 4, 'max_features': 'log2'}. Best is trial 0 with value: 0.9649122807017544.\n",
      "[I 2024-08-02 07:35:49,068] Trial 61 finished with value: 0.9649122807017544 and parameters: {'n_estimators': 700, 'max_depth': 3, 'min_samples_split': 17, 'min_samples_leaf': 10, 'max_features': 'log2'}. Best is trial 0 with value: 0.9649122807017544.\n",
      "[I 2024-08-02 07:35:50,276] Trial 62 finished with value: 0.9649122807017544 and parameters: {'n_estimators': 600, 'max_depth': 4, 'min_samples_split': 16, 'min_samples_leaf': 9, 'max_features': 'log2'}. Best is trial 0 with value: 0.9649122807017544.\n",
      "[I 2024-08-02 07:35:51,878] Trial 63 finished with value: 0.9649122807017544 and parameters: {'n_estimators': 800, 'max_depth': 6, 'min_samples_split': 14, 'min_samples_leaf': 10, 'max_features': 'log2'}. Best is trial 0 with value: 0.9649122807017544.\n",
      "[I 2024-08-02 07:35:53,286] Trial 64 finished with value: 0.9649122807017544 and parameters: {'n_estimators': 700, 'max_depth': 9, 'min_samples_split': 15, 'min_samples_leaf': 9, 'max_features': 'log2'}. Best is trial 0 with value: 0.9649122807017544.\n",
      "[I 2024-08-02 07:35:55,366] Trial 65 finished with value: 0.9649122807017544 and parameters: {'n_estimators': 900, 'max_depth': 7, 'min_samples_split': 6, 'min_samples_leaf': 10, 'max_features': 'log2'}. Best is trial 0 with value: 0.9649122807017544.\n",
      "[I 2024-08-02 07:35:57,636] Trial 66 finished with value: 0.9649122807017544 and parameters: {'n_estimators': 1000, 'max_depth': 5, 'min_samples_split': 12, 'min_samples_leaf': 8, 'max_features': 'log2'}. Best is trial 0 with value: 0.9649122807017544.\n",
      "[I 2024-08-02 07:35:58,680] Trial 67 finished with value: 0.9649122807017544 and parameters: {'n_estimators': 500, 'max_depth': 8, 'min_samples_split': 19, 'min_samples_leaf': 5, 'max_features': 'sqrt'}. Best is trial 0 with value: 0.9649122807017544.\n",
      "[I 2024-08-02 07:36:00,053] Trial 68 finished with value: 0.9649122807017544 and parameters: {'n_estimators': 600, 'max_depth': 10, 'min_samples_split': 14, 'min_samples_leaf': 3, 'max_features': 'log2'}. Best is trial 0 with value: 0.9649122807017544.\n",
      "[I 2024-08-02 07:36:01,721] Trial 69 finished with value: 0.9649122807017544 and parameters: {'n_estimators': 700, 'max_depth': 13, 'min_samples_split': 17, 'min_samples_leaf': 6, 'max_features': 'log2'}. Best is trial 0 with value: 0.9649122807017544.\n",
      "[I 2024-08-02 07:36:03,772] Trial 70 finished with value: 0.9649122807017544 and parameters: {'n_estimators': 800, 'max_depth': 4, 'min_samples_split': 16, 'min_samples_leaf': 4, 'max_features': 'sqrt'}. Best is trial 0 with value: 0.9649122807017544.\n",
      "[I 2024-08-02 07:36:04,671] Trial 71 finished with value: 0.9649122807017544 and parameters: {'n_estimators': 300, 'max_depth': 9, 'min_samples_split': 3, 'min_samples_leaf': 7, 'max_features': 'sqrt'}. Best is trial 0 with value: 0.9649122807017544.\n",
      "[I 2024-08-02 07:36:06,416] Trial 72 finished with value: 0.9649122807017544 and parameters: {'n_estimators': 600, 'max_depth': 10, 'min_samples_split': 5, 'min_samples_leaf': 6, 'max_features': 'sqrt'}. Best is trial 0 with value: 0.9649122807017544.\n",
      "[I 2024-08-02 07:36:08,066] Trial 73 finished with value: 0.9649122807017544 and parameters: {'n_estimators': 700, 'max_depth': 7, 'min_samples_split': 7, 'min_samples_leaf': 5, 'max_features': 'sqrt'}. Best is trial 0 with value: 0.9649122807017544.\n",
      "[I 2024-08-02 07:36:10,207] Trial 74 finished with value: 0.9649122807017544 and parameters: {'n_estimators': 800, 'max_depth': 11, 'min_samples_split': 2, 'min_samples_leaf': 9, 'max_features': 'sqrt'}. Best is trial 0 with value: 0.9649122807017544.\n",
      "[I 2024-08-02 07:36:12,901] Trial 75 finished with value: 0.9649122807017544 and parameters: {'n_estimators': 900, 'max_depth': 8, 'min_samples_split': 5, 'min_samples_leaf': 7, 'max_features': 'log2'}. Best is trial 0 with value: 0.9649122807017544.\n",
      "[I 2024-08-02 07:36:14,663] Trial 76 finished with value: 0.9649122807017544 and parameters: {'n_estimators': 700, 'max_depth': 15, 'min_samples_split': 15, 'min_samples_leaf': 6, 'max_features': 'sqrt'}. Best is trial 0 with value: 0.9649122807017544.\n",
      "[I 2024-08-02 07:36:16,969] Trial 77 finished with value: 0.9649122807017544 and parameters: {'n_estimators': 800, 'max_depth': 14, 'min_samples_split': 4, 'min_samples_leaf': 3, 'max_features': 'log2'}. Best is trial 0 with value: 0.9649122807017544.\n",
      "[I 2024-08-02 07:36:18,259] Trial 78 finished with value: 0.9649122807017544 and parameters: {'n_estimators': 600, 'max_depth': 8, 'min_samples_split': 9, 'min_samples_leaf': 4, 'max_features': 'log2'}. Best is trial 0 with value: 0.9649122807017544.\n",
      "[I 2024-08-02 07:36:19,348] Trial 79 finished with value: 0.9649122807017544 and parameters: {'n_estimators': 500, 'max_depth': 9, 'min_samples_split': 8, 'min_samples_leaf': 10, 'max_features': 'sqrt'}. Best is trial 0 with value: 0.9649122807017544.\n",
      "[I 2024-08-02 07:36:21,209] Trial 80 finished with value: 0.9649122807017544 and parameters: {'n_estimators': 900, 'max_depth': 6, 'min_samples_split': 14, 'min_samples_leaf': 5, 'max_features': 'log2'}. Best is trial 0 with value: 0.9649122807017544.\n",
      "[I 2024-08-02 07:36:22,267] Trial 81 finished with value: 0.9649122807017544 and parameters: {'n_estimators': 400, 'max_depth': 7, 'min_samples_split': 18, 'min_samples_leaf': 2, 'max_features': 'log2'}. Best is trial 0 with value: 0.9649122807017544.\n",
      "[I 2024-08-02 07:36:23,180] Trial 82 finished with value: 0.9649122807017544 and parameters: {'n_estimators': 300, 'max_depth': 5, 'min_samples_split': 17, 'min_samples_leaf': 4, 'max_features': 'log2'}. Best is trial 0 with value: 0.9649122807017544.\n",
      "[I 2024-08-02 07:36:24,345] Trial 83 finished with value: 0.9649122807017544 and parameters: {'n_estimators': 400, 'max_depth': 6, 'min_samples_split': 18, 'min_samples_leaf': 3, 'max_features': 'log2'}. Best is trial 0 with value: 0.9649122807017544.\n",
      "[I 2024-08-02 07:36:25,299] Trial 84 finished with value: 0.9649122807017544 and parameters: {'n_estimators': 400, 'max_depth': 9, 'min_samples_split': 20, 'min_samples_leaf': 4, 'max_features': 'log2'}. Best is trial 0 with value: 0.9649122807017544.\n",
      "[I 2024-08-02 07:36:26,749] Trial 85 finished with value: 0.9649122807017544 and parameters: {'n_estimators': 500, 'max_depth': 7, 'min_samples_split': 12, 'min_samples_leaf': 7, 'max_features': 'log2'}. Best is trial 0 with value: 0.9649122807017544.\n",
      "[I 2024-08-02 07:36:27,551] Trial 86 finished with value: 0.9649122807017544 and parameters: {'n_estimators': 300, 'max_depth': 3, 'min_samples_split': 16, 'min_samples_leaf': 5, 'max_features': 'sqrt'}. Best is trial 0 with value: 0.9649122807017544.\n",
      "[I 2024-08-02 07:36:30,020] Trial 87 finished with value: 0.9649122807017544 and parameters: {'n_estimators': 1000, 'max_depth': 8, 'min_samples_split': 17, 'min_samples_leaf': 3, 'max_features': 'log2'}. Best is trial 0 with value: 0.9649122807017544.\n",
      "[I 2024-08-02 07:36:31,571] Trial 88 finished with value: 0.9649122807017544 and parameters: {'n_estimators': 500, 'max_depth': 6, 'min_samples_split': 13, 'min_samples_leaf': 6, 'max_features': 'sqrt'}. Best is trial 0 with value: 0.9649122807017544.\n",
      "[I 2024-08-02 07:36:32,080] Trial 89 finished with value: 0.9649122807017544 and parameters: {'n_estimators': 200, 'max_depth': 7, 'min_samples_split': 10, 'min_samples_leaf': 4, 'max_features': 'log2'}. Best is trial 0 with value: 0.9649122807017544.\n",
      "[I 2024-08-02 07:36:33,705] Trial 90 finished with value: 0.9649122807017544 and parameters: {'n_estimators': 700, 'max_depth': 10, 'min_samples_split': 3, 'min_samples_leaf': 5, 'max_features': 'log2'}. Best is trial 0 with value: 0.9649122807017544.\n",
      "[I 2024-08-02 07:36:33,976] Trial 91 finished with value: 0.9649122807017544 and parameters: {'n_estimators': 100, 'max_depth': 9, 'min_samples_split': 19, 'min_samples_leaf': 8, 'max_features': 'sqrt'}. Best is trial 0 with value: 0.9649122807017544.\n",
      "[I 2024-08-02 07:36:34,452] Trial 92 finished with value: 0.9649122807017544 and parameters: {'n_estimators': 200, 'max_depth': 9, 'min_samples_split': 19, 'min_samples_leaf': 7, 'max_features': 'sqrt'}. Best is trial 0 with value: 0.9649122807017544.\n",
      "[I 2024-08-02 07:36:35,183] Trial 93 finished with value: 0.9649122807017544 and parameters: {'n_estimators': 300, 'max_depth': 10, 'min_samples_split': 20, 'min_samples_leaf': 8, 'max_features': 'sqrt'}. Best is trial 0 with value: 0.9649122807017544.\n",
      "[I 2024-08-02 07:36:35,833] Trial 94 finished with value: 0.9649122807017544 and parameters: {'n_estimators': 200, 'max_depth': 15, 'min_samples_split': 6, 'min_samples_leaf': 10, 'max_features': 'sqrt'}. Best is trial 0 with value: 0.9649122807017544.\n",
      "[I 2024-08-02 07:36:36,936] Trial 95 finished with value: 0.9649122807017544 and parameters: {'n_estimators': 300, 'max_depth': 8, 'min_samples_split': 18, 'min_samples_leaf': 9, 'max_features': 'sqrt'}. Best is trial 0 with value: 0.9649122807017544.\n",
      "[I 2024-08-02 07:36:38,843] Trial 96 finished with value: 0.9649122807017544 and parameters: {'n_estimators': 800, 'max_depth': 8, 'min_samples_split': 15, 'min_samples_leaf': 6, 'max_features': 'log2'}. Best is trial 0 with value: 0.9649122807017544.\n",
      "[I 2024-08-02 07:36:40,233] Trial 97 finished with value: 0.9649122807017544 and parameters: {'n_estimators': 600, 'max_depth': 4, 'min_samples_split': 16, 'min_samples_leaf': 2, 'max_features': 'sqrt'}. Best is trial 0 with value: 0.9649122807017544.\n",
      "[I 2024-08-02 07:36:42,260] Trial 98 finished with value: 0.9649122807017544 and parameters: {'n_estimators': 900, 'max_depth': 11, 'min_samples_split': 19, 'min_samples_leaf': 7, 'max_features': 'log2'}. Best is trial 0 with value: 0.9649122807017544.\n",
      "[I 2024-08-02 07:36:43,168] Trial 99 finished with value: 0.9649122807017544 and parameters: {'n_estimators': 400, 'max_depth': 14, 'min_samples_split': 15, 'min_samples_leaf': 9, 'max_features': 'log2'}. Best is trial 0 with value: 0.9649122807017544.\n"
     ]
    },
    {
     "name": "stdout",
     "output_type": "stream",
     "text": [
      "Number of finished trials: 100\n",
      "Best trial: {'n_estimators': 800, 'max_depth': 7, 'min_samples_split': 11, 'min_samples_leaf': 7, 'max_features': 'sqrt'}\n",
      "Best accuracy: 0.9649122807017544\n"
     ]
    }
   ],
   "source": [
    "study = optuna.create_study(direction='maximize')\n",
    "study.optimize(objective, n_trials=100)\n",
    "\n",
    "print(\"Number of finished trials:\", len(study.trials))\n",
    "print(\"Best trial:\", study.best_trial.params)\n",
    "print(\"Best accuracy:\", study.best_trial.value)"
   ]
  },
  {
   "cell_type": "markdown",
   "metadata": {},
   "source": [
    "## Train model "
   ]
  },
  {
   "cell_type": "code",
   "execution_count": 6,
   "metadata": {},
   "outputs": [
    {
     "name": "stdout",
     "output_type": "stream",
     "text": [
      "Test Accuracy with best hyperparameters: 0.9649122807017544\n"
     ]
    }
   ],
   "source": [
    "best_params = study.best_trial.params\n",
    "final_model = RandomForestClassifier(random_state=42, **best_params)\n",
    "final_model.fit(X_train, y_train)\n",
    "test_preds = final_model.predict(X_val)\n",
    "test_accuracy = accuracy_score(y_val, test_preds)\n",
    "\n",
    "print(\"Test Accuracy with best hyperparameters:\", test_accuracy)"
   ]
  },
  {
   "cell_type": "markdown",
   "metadata": {},
   "source": [
    "---\n"
   ]
  },
  {
   "cell_type": "markdown",
   "metadata": {},
   "source": [
    "## Using GridSearchCV\n",
    "\n",
    "Exhaustively searches over a manually specified parameter grid, making it suitable for exploring a relatively small search space but can be computationally expensive."
   ]
  },
  {
   "cell_type": "code",
   "execution_count": 7,
   "metadata": {},
   "outputs": [
    {
     "name": "stdout",
     "output_type": "stream",
     "text": [
      "Fitting 5 folds for each of 800 candidates, totalling 4000 fits\n",
      "Best parameters found by GridSearchCV:\n",
      "{'max_depth': 7, 'max_features': 'sqrt', 'min_samples_leaf': 1, 'min_samples_split': 2, 'n_estimators': 300}\n",
      "Best cross-validation accuracy: 0.9626373626373625\n",
      "Validation accuracy with best hyperparameters: 0.9649122807017544\n"
     ]
    }
   ],
   "source": [
    "from sklearn.model_selection import GridSearchCV\n",
    "\n",
    "# Define the parameter grid for GridSearchCV\n",
    "param_grid = {\n",
    "    'n_estimators': [100, 300, 500, 800, 1000],\n",
    "    'max_depth': [3, 5, 7, 10, 15],\n",
    "    'min_samples_split': [2, 5, 10, 15],\n",
    "    'min_samples_leaf': [1, 2, 5, 10],\n",
    "    'max_features': ['sqrt', 'log2']\n",
    "}\n",
    "\n",
    "# Create a base RandomForestClassifier\n",
    "base_model = RandomForestClassifier(random_state=42)\n",
    "\n",
    "# Initialize GridSearchCV\n",
    "grid_search = GridSearchCV(estimator=base_model, param_grid=param_grid,\n",
    "                           scoring='accuracy', cv=5, verbose=1, n_jobs=-1)\n",
    "\n",
    "# Fit GridSearchCV\n",
    "grid_search.fit(X_train, y_train)\n",
    "\n",
    "# Print results\n",
    "print(\"Best parameters found by GridSearchCV:\")\n",
    "print(grid_search.best_params_)\n",
    "print(\"Best cross-validation accuracy:\", grid_search.best_score_)\n",
    "\n",
    "# Evaluate on validation set\n",
    "best_model = grid_search.best_estimator_\n",
    "val_preds = best_model.predict(X_val)\n",
    "val_accuracy = accuracy_score(y_val, val_preds)\n",
    "print(\"Validation accuracy with best hyperparameters:\", val_accuracy)\n"
   ]
  },
  {
   "cell_type": "markdown",
   "metadata": {},
   "source": [
    "## Random Search\n",
    "\n",
    "`RandomizedSearchCV` works by sampling a fixed number of hyperparameter settings from the specified distributions. \n",
    "\n",
    "It is more efficient for larger search spaces and can be particularly useful when computational resources are limited or when searching over a very large number of parameters"
   ]
  },
  {
   "cell_type": "code",
   "execution_count": 8,
   "metadata": {},
   "outputs": [
    {
     "name": "stdout",
     "output_type": "stream",
     "text": [
      "Fitting 5 folds for each of 100 candidates, totalling 500 fits\n",
      "Best parameters found by RandomizedSearchCV:\n",
      "{'max_depth': 11, 'max_features': 'log2', 'min_samples_leaf': 1, 'min_samples_split': 3, 'n_estimators': 996}\n",
      "Best cross-validation accuracy: 0.9582417582417582\n",
      "Validation accuracy with best hyperparameters (RandomizedSearchCV): 0.9649122807017544\n"
     ]
    }
   ],
   "source": [
    "from sklearn.model_selection import RandomizedSearchCV\n",
    "from scipy.stats import randint\n",
    "\n",
    "# Define the parameter distributions for RandomizedSearchCV\n",
    "param_dist = {\n",
    "    'n_estimators': randint(100, 1000),\n",
    "    'max_depth': randint(3, 15),\n",
    "    'min_samples_split': randint(2, 20),\n",
    "    'min_samples_leaf': randint(1, 10),\n",
    "    'max_features': ['sqrt', 'log2']\n",
    "}\n",
    "\n",
    "# Initialize RandomizedSearchCV\n",
    "random_search = RandomizedSearchCV(estimator=base_model, param_distributions=param_dist,\n",
    "                                   n_iter=100, scoring='accuracy', cv=5, verbose=1, n_jobs=-1, random_state=42)\n",
    "\n",
    "# Fit RandomizedSearchCV\n",
    "random_search.fit(X_train, y_train)\n",
    "\n",
    "# Print results\n",
    "print(\"Best parameters found by RandomizedSearchCV:\")\n",
    "print(random_search.best_params_)\n",
    "print(\"Best cross-validation accuracy:\", random_search.best_score_)\n",
    "\n",
    "# Evaluate on validation set\n",
    "best_random_model = random_search.best_estimator_\n",
    "val_preds_random = best_random_model.predict(X_val)\n",
    "val_accuracy_random = accuracy_score(y_val, val_preds_random)\n",
    "print(\"Validation accuracy with best hyperparameters (RandomizedSearchCV):\", val_accuracy_random)\n"
   ]
  },
  {
   "cell_type": "markdown",
   "metadata": {},
   "source": [
    "---"
   ]
  },
  {
   "cell_type": "markdown",
   "metadata": {},
   "source": [
    "<br><br><br><br>\n",
    "## Using GPyOpt"
   ]
  },
  {
   "cell_type": "code",
   "execution_count": 10,
   "metadata": {},
   "outputs": [],
   "source": [
    "# pip install gpyopt"
   ]
  },
  {
   "cell_type": "code",
   "execution_count": 11,
   "metadata": {},
   "outputs": [],
   "source": [
    "import numpy as np\n",
    "import GPy\n",
    "import GPyOpt\n",
    "from sklearn.datasets import load_iris\n",
    "from sklearn.ensemble import RandomForestClassifier\n",
    "from sklearn.model_selection import cross_val_score"
   ]
  },
  {
   "cell_type": "code",
   "execution_count": 12,
   "metadata": {},
   "outputs": [],
   "source": [
    "# Load the Iris dataset\n",
    "iris = load_iris()\n",
    "X = iris.data\n",
    "y = iris.target"
   ]
  },
  {
   "cell_type": "code",
   "execution_count": 13,
   "metadata": {},
   "outputs": [
    {
     "name": "stdout",
     "output_type": "stream",
     "text": [
      "Best n_estimators: 100\n",
      "Best max_depth: 20\n",
      "Best accuracy found: 0.9666666666666668\n"
     ]
    }
   ],
   "source": [
    "# Define the objective function\n",
    "def objective_function(parameters):\n",
    "    # Convert the hyperparameters to integers\n",
    "    parameters = parameters[0]\n",
    "    n_estimators = int(parameters[0])\n",
    "    max_depth = int(parameters[1])\n",
    "    \n",
    "    # Define the classifier with the specified hyperparameters\n",
    "    clf = RandomForestClassifier(n_estimators=n_estimators, max_depth=max_depth, random_state=0)\n",
    "    \n",
    "    # Calculate cross-validation scores (accuracy)\n",
    "    scores = cross_val_score(clf, X, y, cv=5)\n",
    "    \n",
    "    # Return the average accuracy (to be maximized)\n",
    "    return -np.mean(scores)  # Minimize negative accuracy -> maximize accuracy\n",
    "\n",
    "# Bounds for hyperparameters (n_estimators and max_depth)\n",
    "bounds = [\n",
    "    {'name': 'n_estimators', 'type': 'discrete', 'domain': (10, 50, 100, 150)},\n",
    "    {'name': 'max_depth', 'type': 'discrete', 'domain': (2, 5, 10, 20)},\n",
    "]\n",
    "\n",
    "# Initialize Bayesian Optimization\n",
    "optimizer = GPyOpt.methods.BayesianOptimization(f=objective_function, \n",
    "                                                domain=bounds, \n",
    "                                                acquisition_type='EI')\n",
    "\n",
    "# Run the optimization\n",
    "optimizer.run_optimization(max_iter=10)  # Specify the number of iterations\n",
    "\n",
    "# Get the best hyperparameters found\n",
    "best_params = optimizer.X[np.argmin(optimizer.Y)]\n",
    "\n",
    "# Convert to integer values\n",
    "best_n_estimators = int(best_params[0])\n",
    "best_max_depth = int(best_params[1])\n",
    "\n",
    "print(\"Best n_estimators:\", best_n_estimators)\n",
    "print(\"Best max_depth:\", best_max_depth)\n",
    "print(\"Best accuracy found:\", -optimizer.fx_opt)  # Convert back from negative accuracy"
   ]
  },
  {
   "cell_type": "markdown",
   "metadata": {},
   "source": [
    "__Rebuild the best model with the chosen params__"
   ]
  },
  {
   "cell_type": "code",
   "execution_count": null,
   "metadata": {},
   "outputs": [],
   "source": [
    "# Train the final model with the best hyperparameters\n",
    "best_model = RandomForestClassifier(n_estimators=best_n_estimators, max_depth=best_max_depth, random_state=0)\n",
    "best_model.fit(X, y)\n",
    "\n",
    "# Split the data into training and testing sets for evaluation\n",
    "X_train, X_test, y_train, y_test = train_test_split(X, y, test_size=0.3, random_state=42)\n",
    "\n",
    "# Train the model on the training set\n",
    "best_model.fit(X_train, y_train)\n",
    "\n",
    "# Predict on the testing set\n",
    "y_pred = best_model.predict(X_test)\n",
    "\n",
    "# Evaluate the model\n",
    "accuracy = accuracy_score(y_test, y_pred)\n",
    "print(\"Test set accuracy of the best model:\", accuracy)"
   ]
  },
  {
   "cell_type": "markdown",
   "metadata": {},
   "source": [
    "## Simple example of surrogate function and acquisition function"
   ]
  },
  {
   "cell_type": "code",
   "execution_count": 18,
   "metadata": {},
   "outputs": [
    {
     "name": "stdout",
     "output_type": "stream",
     "text": [
      "Predicted mean:\n",
      "[[ 0.75670972]\n",
      " [-0.70565835]\n",
      " [ 0.6263472 ]]\n",
      "Predicted variance:\n",
      "[[0.03747988]\n",
      " [0.01773146]\n",
      " [0.02257624]]\n"
     ]
    }
   ],
   "source": [
    "import numpy as np\n",
    "import GPy\n",
    "import GPyOpt\n",
    "\n",
    "# Sample data points (example)\n",
    "X = np.array([[1.0], [3.0], [5.0], [6.0], [8.0]])\n",
    "Y = np.sin(X)  # Example function to approximate\n",
    "\n",
    "# Define the Gaussian Process model\n",
    "kernel = GPy.kern.RBF(input_dim=1, variance=1.0, lengthscale=1.0)\n",
    "gp_model = GPy.models.GPRegression(X, Y, kernel)\n",
    "\n",
    "# Optimize (find the maximum likelihood parameters)\n",
    "gp_model.optimize()\n",
    "\n",
    "# Predict mean and variance at new points\n",
    "X_new = np.array([[2.0], [4.0], [7.0]])\n",
    "mean, var = gp_model.predict(X_new)\n",
    "\n",
    "print(\"Predicted mean:\")\n",
    "print(mean)\n",
    "\n",
    "print(\"Predicted variance:\")\n",
    "print(var)\n",
    "\n",
    "# Define the bounds and domain for optimization (example)\n",
    "bounds = [{'name': 'x', 'type': 'continuous', 'domain': (0, 10)}]\n",
    "\n",
    "# Define the acquisition function (Expected Improvement)\n",
    "acquisition_function = GPyOpt.acquisitions.AcquisitionEI(gp_model, space=bounds)\n",
    "\n",
    "# Get the next point to evaluate\n",
    "next_point = acquisition_function.acq_max(bounds=bounds, opt_model=gp_model)\n",
    "\n",
    "print(\"Next point to evaluate:\")\n",
    "print(next_point)"
   ]
  }
 ],
 "metadata": {
  "kernelspec": {
   "display_name": "mlenv",
   "language": "python",
   "name": "python3"
  },
  "language_info": {
   "codemirror_mode": {
    "name": "ipython",
    "version": 3
   },
   "file_extension": ".py",
   "mimetype": "text/x-python",
   "name": "python",
   "nbconvert_exporter": "python",
   "pygments_lexer": "ipython3",
   "version": "3.11.0"
  }
 },
 "nbformat": 4,
 "nbformat_minor": 2
}
