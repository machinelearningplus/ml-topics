{
 "cells": [
  {
   "cell_type": "markdown",
   "id": "2a29a2e9-75ab-4b0e-ae25-f128d5c70d9b",
   "metadata": {},
   "source": [
    "# KL Divergence - What is it and Mathematical details\n",
    "\n",
    "__At its core, KL (Kullback-Leibler) Divergence is a statistical measure that quantifies the dissimilarity between two probability distributions.__\n",
    "\n",
    "Think of it like a mathematical ruler that tells us the \"distance\" or difference between two probability distributions. \n",
    "\n",
    "Remember, in data science, we're often working with probabilities – the chances of events happening. So, if we have two models giving us different probability distributions for the same event, KL Divergence helps us figure out how different these two models are.\n",
    "\n",
    "## Simple Illustration\n",
    "\n",
    "Imagine you have two bags of marbles. One bag has 8 red marbles and 2 blue marbles, while the other has 5 of each. Now, if I asked you, \"How different are these bags?\" you'd likely think about the proportion of marbles in each bag. KL Divergence does the same but in a mathematical way.\n",
    "\n"
   ]
  },
  {
   "cell_type": "markdown",
   "id": "c19a9f40-c395-4358-b311-160621dc3f00",
   "metadata": {},
   "source": [
    "## Why is KL Divergence Important?\n",
    "\n",
    "In the machine learning realm, we often want our models to make predictions as close as possible to the real-world outcomes. Sometimes, we have a target probability distribution (like the real outcomes) and a predicted distribution from our model. KL Divergence helps us understand how much our model's predictions deviate from the target.\n",
    "\n",
    "It can also be used post production during model monitoring to see how different the predictors and targets are different from the base distributions."
   ]
  },
  {
   "cell_type": "markdown",
   "id": "5a569857-437c-4558-9de9-dc551ec3bd6c",
   "metadata": {},
   "source": [
    "## How to Calculate KL Divergence?\n",
    "\n",
    "The formula for KL Divergence is:\n",
    "\n",
    "KL(P∣∣Q) = ∑P(i)×log(Q(i)/P(i))\n",
    "\n",
    "Where:\n",
    "\n",
    "- P is the true probability distribution.\n",
    "- Q is the probability distribution of the model.\n",
    "\n",
    "This might look a bit complex, but let's simplify it:\n",
    "\n",
    "__Simple Explanation:__\n",
    "\n",
    "Remember our two bags of marbles? Let’s assume Bag 1 is our true distribution and Bag 2 is our model's predicted distribution.\n",
    "\n",
    "For every marble color in Bag 1, we check how many of that color are in Bag 2. The larger the difference, the more the total divergence score goes up.\n",
    "\n",
    "Real-world Python Example:\n",
    "\n",
    "Suppose we're working on a weather prediction model. We have real data (actual outcomes) for whether it rained (1) or not (0) on certain days, and our model's predictions for the same days."
   ]
  },
  {
   "cell_type": "code",
   "execution_count": 1,
   "id": "48353456-2440-4a22-901b-3e4b2fd95d9b",
   "metadata": {},
   "outputs": [
    {
     "name": "stdout",
     "output_type": "stream",
     "text": [
      "0.036690014034750584\n"
     ]
    }
   ],
   "source": [
    "import numpy as np\n",
    "from scipy.stats import entropy\n",
    "\n",
    "# True data: 0.9 probability of no rain and 0.1 probability of rain\n",
    "p = np.array([0.9, 0.1])\n",
    "\n",
    "# Model's prediction: 0.8 probability of no rain and 0.2 probability of rain\n",
    "q = np.array([0.8, 0.2])\n",
    "\n",
    "# Calculate KL Divergence\n",
    "kl_divergence = entropy(p, q)\n",
    "print(kl_divergence)"
   ]
  },
  {
   "cell_type": "markdown",
   "id": "e7a831a7-3f23-4122-a3ce-6d3c6dfa1642",
   "metadata": {},
   "source": [
    "If you look at the formula for KL Divergence, `KL(P||Q) != KL(Q||P)`.\n",
    "\n",
    "This implies, KL Divergence is not a symmetric measure. "
   ]
  },
  {
   "cell_type": "code",
   "execution_count": 2,
   "id": "420864c6-4f54-4aa7-a991-9a6df21c1406",
   "metadata": {},
   "outputs": [
    {
     "data": {
      "text/plain": [
       "0.04440300758688234"
      ]
     },
     "execution_count": 2,
     "metadata": {},
     "output_type": "execute_result"
    }
   ],
   "source": [
    "# KL Divergence of Q||P\n",
    "entropy(q, p)"
   ]
  },
  {
   "cell_type": "markdown",
   "id": "8c64a7f4-4b14-40e3-ab16-056106889f31",
   "metadata": {},
   "source": [
    "## How to compute KL Divergence from scratch?\n",
    "\n",
    "Let's create a Python function to do the calculation."
   ]
  },
  {
   "cell_type": "code",
   "execution_count": null,
   "id": "4a18510c-0472-498b-949f-c49a89245b25",
   "metadata": {},
   "outputs": [],
   "source": [
    "def kl_divergence(p, q):\r\n",
    "    \"\"\"Compute KL Divergence between two distributions.\"\"\"\r\n",
    "    return np.sum(p * np.log(p / q))\r\n",
    "\r\n",
    "# Using our previously defined p and q\r\n",
    "print(kl_divergence(p q))\r\n"
   ]
  },
  {
   "cell_type": "markdown",
   "id": "1eff3ba2-c6a9-4266-bfab-e40d460b5f5a",
   "metadata": {},
   "source": [
    "## Common Pitfalls and how to address them\n",
    "\n",
    "1. __Non-Symmetry:__ KL Divergence is not symmetric. This means KL(P||Q) != KL(Q||P). This means it cannot be used as a distance measure.\n",
    "\n",
    "   So alternately, __Jensen-Shannon entropy__ can be used, which is nothing but:\n",
    "\n",
    "   JS(P||Q) = (0.5 * KL(P||M)) + (0.5 * KL(Q||M))\n",
    "\n",
    "   Where, M = (P + Q) / 2\n",
    "\n",
    "\n",
    "2. __Undefined Values:__ If q has a zero where p doesn't, the division becomes undefined. It's important to ensure no zero values in q for events that have non-zero probabilities in p.\n"
   ]
  }
 ],
 "metadata": {
  "kernelspec": {
   "display_name": "Python 3 (ipykernel)",
   "language": "python",
   "name": "python3"
  },
  "language_info": {
   "codemirror_mode": {
    "name": "ipython",
    "version": 3
   },
   "file_extension": ".py",
   "mimetype": "text/x-python",
   "name": "python",
   "nbconvert_exporter": "python",
   "pygments_lexer": "ipython3",
   "version": "3.11.4"
  }
 },
 "nbformat": 4,
 "nbformat_minor": 5
}
