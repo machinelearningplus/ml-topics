{
 "cells": [
  {
   "cell_type": "markdown",
   "metadata": {},
   "source": [
    "# Maximum Relevancy Minimum Redundancy (MRMR)"
   ]
  },
  {
   "cell_type": "code",
   "execution_count": 2,
   "metadata": {},
   "outputs": [
    {
     "name": "stdout",
     "output_type": "stream",
     "text": [
      "Collecting mrmr_selection\n",
      "  Downloading mrmr_selection-0.2.8-py3-none-any.whl.metadata (6.6 kB)\n",
      "Requirement already satisfied: category-encoders in c:\\users\\dell\\anaconda3\\envs\\mlenv\\lib\\site-packages (from mrmr_selection) (2.6.3)\n",
      "Requirement already satisfied: jinja2 in c:\\users\\dell\\anaconda3\\envs\\mlenv\\lib\\site-packages (from mrmr_selection) (3.1.4)\n",
      "Requirement already satisfied: tqdm in c:\\users\\dell\\anaconda3\\envs\\mlenv\\lib\\site-packages (from mrmr_selection) (4.66.4)\n",
      "Requirement already satisfied: joblib in c:\\users\\dell\\anaconda3\\envs\\mlenv\\lib\\site-packages (from mrmr_selection) (1.3.2)\n",
      "Requirement already satisfied: pandas>=1.0.3 in c:\\users\\dell\\anaconda3\\envs\\mlenv\\lib\\site-packages (from mrmr_selection) (2.1.4)\n",
      "Requirement already satisfied: numpy>=1.18.1 in c:\\users\\dell\\anaconda3\\envs\\mlenv\\lib\\site-packages (from mrmr_selection) (1.26.4)\n",
      "Requirement already satisfied: scikit-learn in c:\\users\\dell\\anaconda3\\envs\\mlenv\\lib\\site-packages (from mrmr_selection) (1.4.2)\n",
      "Requirement already satisfied: scipy in c:\\users\\dell\\anaconda3\\envs\\mlenv\\lib\\site-packages (from mrmr_selection) (1.11.4)\n",
      "Collecting polars>=0.12.5 (from mrmr_selection)\n",
      "  Downloading polars-1.4.1-cp38-abi3-win_amd64.whl.metadata (14 kB)\n",
      "Requirement already satisfied: python-dateutil>=2.8.2 in c:\\users\\dell\\anaconda3\\envs\\mlenv\\lib\\site-packages (from pandas>=1.0.3->mrmr_selection) (2.9.0.post0)\n",
      "Requirement already satisfied: pytz>=2020.1 in c:\\users\\dell\\anaconda3\\envs\\mlenv\\lib\\site-packages (from pandas>=1.0.3->mrmr_selection) (2024.1)\n",
      "Requirement already satisfied: tzdata>=2022.1 in c:\\users\\dell\\anaconda3\\envs\\mlenv\\lib\\site-packages (from pandas>=1.0.3->mrmr_selection) (2024.1)\n",
      "Requirement already satisfied: statsmodels>=0.9.0 in c:\\users\\dell\\anaconda3\\envs\\mlenv\\lib\\site-packages (from category-encoders->mrmr_selection) (0.14.2)\n",
      "Requirement already satisfied: patsy>=0.5.1 in c:\\users\\dell\\anaconda3\\envs\\mlenv\\lib\\site-packages (from category-encoders->mrmr_selection) (0.5.6)\n",
      "Requirement already satisfied: threadpoolctl>=2.0.0 in c:\\users\\dell\\anaconda3\\envs\\mlenv\\lib\\site-packages (from scikit-learn->mrmr_selection) (3.5.0)\n",
      "Requirement already satisfied: MarkupSafe>=2.0 in c:\\users\\dell\\anaconda3\\envs\\mlenv\\lib\\site-packages (from jinja2->mrmr_selection) (2.1.5)\n",
      "Requirement already satisfied: colorama in c:\\users\\dell\\anaconda3\\envs\\mlenv\\lib\\site-packages (from tqdm->mrmr_selection) (0.4.6)\n",
      "Requirement already satisfied: six in c:\\users\\dell\\anaconda3\\envs\\mlenv\\lib\\site-packages (from patsy>=0.5.1->category-encoders->mrmr_selection) (1.16.0)\n",
      "Requirement already satisfied: packaging>=21.3 in c:\\users\\dell\\anaconda3\\envs\\mlenv\\lib\\site-packages (from statsmodels>=0.9.0->category-encoders->mrmr_selection) (23.2)\n",
      "Downloading mrmr_selection-0.2.8-py3-none-any.whl (15 kB)\n",
      "Downloading polars-1.4.1-cp38-abi3-win_amd64.whl (31.4 MB)\n",
      "   ---------------------------------------- 0.0/31.4 MB ? eta -:--:--\n",
      "   ---------------------------------------- 0.1/31.4 MB 2.0 MB/s eta 0:00:16\n",
      "   ---------------------------------------- 0.2/31.4 MB 3.0 MB/s eta 0:00:11\n",
      "    --------------------------------------- 0.4/31.4 MB 3.4 MB/s eta 0:00:10\n",
      "   - -------------------------------------- 0.8/31.4 MB 4.8 MB/s eta 0:00:07\n",
      "   - -------------------------------------- 1.3/31.4 MB 5.8 MB/s eta 0:00:06\n",
      "   -- ------------------------------------- 1.7/31.4 MB 6.3 MB/s eta 0:00:05\n",
      "   -- ------------------------------------- 2.1/31.4 MB 6.8 MB/s eta 0:00:05\n",
      "   --- ------------------------------------ 2.7/31.4 MB 7.4 MB/s eta 0:00:04\n",
      "   --- ------------------------------------ 3.1/31.4 MB 7.6 MB/s eta 0:00:04\n",
      "   ---- ----------------------------------- 3.6/31.4 MB 7.9 MB/s eta 0:00:04\n",
      "   ----- ---------------------------------- 4.0/31.4 MB 8.3 MB/s eta 0:00:04\n",
      "   ----- ---------------------------------- 4.5/31.4 MB 8.5 MB/s eta 0:00:04\n",
      "   ------ --------------------------------- 5.0/31.4 MB 8.7 MB/s eta 0:00:04\n",
      "   ------ --------------------------------- 5.5/31.4 MB 8.7 MB/s eta 0:00:03\n",
      "   ------- -------------------------------- 5.9/31.4 MB 8.8 MB/s eta 0:00:03\n",
      "   -------- ------------------------------- 6.4/31.4 MB 8.9 MB/s eta 0:00:03\n",
      "   -------- ------------------------------- 7.0/31.4 MB 9.1 MB/s eta 0:00:03\n",
      "   --------- ------------------------------ 7.4/31.4 MB 9.1 MB/s eta 0:00:03\n",
      "   ---------- ----------------------------- 7.9/31.4 MB 9.2 MB/s eta 0:00:03\n",
      "   ---------- ----------------------------- 8.3/31.4 MB 9.2 MB/s eta 0:00:03\n",
      "   ----------- ---------------------------- 8.8/31.4 MB 9.3 MB/s eta 0:00:03\n",
      "   ----------- ---------------------------- 9.2/31.4 MB 9.2 MB/s eta 0:00:03\n",
      "   ------------ --------------------------- 9.7/31.4 MB 9.3 MB/s eta 0:00:03\n",
      "   ------------ --------------------------- 10.2/31.4 MB 9.4 MB/s eta 0:00:03\n",
      "   ------------- -------------------------- 10.3/31.4 MB 9.6 MB/s eta 0:00:03\n",
      "   ------------- -------------------------- 10.5/31.4 MB 9.2 MB/s eta 0:00:03\n",
      "   -------------- ------------------------- 11.6/31.4 MB 10.2 MB/s eta 0:00:02\n",
      "   --------------- ------------------------ 12.1/31.4 MB 10.4 MB/s eta 0:00:02\n",
      "   ---------------- ----------------------- 12.6/31.4 MB 10.6 MB/s eta 0:00:02\n",
      "   ---------------- ----------------------- 13.1/31.4 MB 10.6 MB/s eta 0:00:02\n",
      "   ----------------- ---------------------- 13.6/31.4 MB 10.6 MB/s eta 0:00:02\n",
      "   ------------------ --------------------- 14.2/31.4 MB 10.6 MB/s eta 0:00:02\n",
      "   ------------------ --------------------- 14.7/31.4 MB 10.6 MB/s eta 0:00:02\n",
      "   ------------------- -------------------- 15.2/31.4 MB 10.6 MB/s eta 0:00:02\n",
      "   -------------------- ------------------- 15.8/31.4 MB 10.7 MB/s eta 0:00:02\n",
      "   -------------------- ------------------- 16.2/31.4 MB 10.7 MB/s eta 0:00:02\n",
      "   --------------------- ------------------ 16.8/31.4 MB 10.7 MB/s eta 0:00:02\n",
      "   --------------------- ------------------ 17.2/31.4 MB 10.6 MB/s eta 0:00:02\n",
      "   ---------------------- ----------------- 17.7/31.4 MB 10.7 MB/s eta 0:00:02\n",
      "   ----------------------- ---------------- 18.1/31.4 MB 10.6 MB/s eta 0:00:02\n",
      "   ----------------------- ---------------- 18.8/31.4 MB 10.7 MB/s eta 0:00:02\n",
      "   ------------------------ --------------- 19.3/31.4 MB 10.9 MB/s eta 0:00:02\n",
      "   ------------------------- -------------- 19.8/31.4 MB 10.9 MB/s eta 0:00:02\n",
      "   ------------------------- -------------- 20.3/31.4 MB 11.1 MB/s eta 0:00:01\n",
      "   -------------------------- ------------- 20.8/31.4 MB 11.7 MB/s eta 0:00:01\n",
      "   --------------------------- ------------ 21.3/31.4 MB 11.5 MB/s eta 0:00:01\n",
      "   --------------------------- ------------ 21.3/31.4 MB 11.5 MB/s eta 0:00:01\n",
      "   --------------------------- ------------ 21.3/31.4 MB 11.5 MB/s eta 0:00:01\n",
      "   --------------------------- ------------ 21.3/31.4 MB 11.5 MB/s eta 0:00:01\n",
      "   ---------------------------- ----------- 22.5/31.4 MB 10.2 MB/s eta 0:00:01\n",
      "   ---------------------------- ----------- 22.5/31.4 MB 10.2 MB/s eta 0:00:01\n",
      "   ------------------------------ --------- 23.6/31.4 MB 10.2 MB/s eta 0:00:01\n",
      "   ------------------------------ --------- 24.1/31.4 MB 10.2 MB/s eta 0:00:01\n",
      "   ------------------------------- -------- 24.7/31.4 MB 10.2 MB/s eta 0:00:01\n",
      "   ------------------------------- -------- 25.1/31.4 MB 10.2 MB/s eta 0:00:01\n",
      "   -------------------------------- ------- 25.7/31.4 MB 10.2 MB/s eta 0:00:01\n",
      "   --------------------------------- ------ 26.3/31.4 MB 10.4 MB/s eta 0:00:01\n",
      "   ---------------------------------- ----- 26.7/31.4 MB 10.2 MB/s eta 0:00:01\n",
      "   ---------------------------------- ----- 27.3/31.4 MB 10.4 MB/s eta 0:00:01\n",
      "   ----------------------------------- ---- 27.8/31.4 MB 10.4 MB/s eta 0:00:01\n",
      "   ------------------------------------ --- 28.3/31.4 MB 10.4 MB/s eta 0:00:01\n",
      "   ------------------------------------ --- 28.7/31.4 MB 10.4 MB/s eta 0:00:01\n",
      "   ------------------------------------- -- 29.2/31.4 MB 10.2 MB/s eta 0:00:01\n",
      "   ------------------------------------- -- 29.6/31.4 MB 10.2 MB/s eta 0:00:01\n",
      "   ------------------------------------- -- 29.6/31.4 MB 10.2 MB/s eta 0:00:01\n",
      "   ------------------------------------- -- 29.7/31.4 MB 9.4 MB/s eta 0:00:01\n",
      "   ------------------------------------- -- 29.7/31.4 MB 9.4 MB/s eta 0:00:01\n",
      "   ---------------------------------------  31.4/31.4 MB 9.9 MB/s eta 0:00:01\n",
      "   ---------------------------------------  31.4/31.4 MB 9.9 MB/s eta 0:00:01\n",
      "   ---------------------------------------- 31.4/31.4 MB 9.1 MB/s eta 0:00:00\n",
      "Installing collected packages: polars, mrmr_selection\n",
      "Successfully installed mrmr_selection-0.2.8 polars-1.4.1\n"
     ]
    }
   ],
   "source": [
    "!pip install mrmr_selection"
   ]
  },
  {
   "cell_type": "markdown",
   "metadata": {},
   "source": [
    "__Import packages and create a dataset__"
   ]
  },
  {
   "cell_type": "code",
   "execution_count": 3,
   "metadata": {},
   "outputs": [],
   "source": [
    "import pandas as pd\n",
    "from mrmr import mrmr_classif\n",
    "from sklearn.datasets import make_classification\n",
    "\n",
    "# create some data\n",
    "X, y = make_classification(n_samples = 1000, n_features = 50, n_informative = 10, n_redundant = 40)\n",
    "X = pd.DataFrame(X)\n",
    "y = pd.Series(y)"
   ]
  },
  {
   "cell_type": "code",
   "execution_count": 4,
   "metadata": {},
   "outputs": [
    {
     "name": "stderr",
     "output_type": "stream",
     "text": [
      "100%|██████████| 10/10 [00:00<00:00, 38.16it/s]\n"
     ]
    },
    {
     "data": {
      "text/plain": [
       "[45, 5, 2, 31, 18, 15, 35, 17, 40, 10]"
      ]
     },
     "execution_count": 4,
     "metadata": {},
     "output_type": "execute_result"
    }
   ],
   "source": [
    "# use mrmr classification\n",
    "selected_features = mrmr_classif(X, y, K = 10)\n",
    "selected_features"
   ]
  }
 ],
 "metadata": {
  "kernelspec": {
   "display_name": "mlenv",
   "language": "python",
   "name": "python3"
  },
  "language_info": {
   "codemirror_mode": {
    "name": "ipython",
    "version": 3
   },
   "file_extension": ".py",
   "mimetype": "text/x-python",
   "name": "python",
   "nbconvert_exporter": "python",
   "pygments_lexer": "ipython3",
   "version": "3.11.0"
  }
 },
 "nbformat": 4,
 "nbformat_minor": 2
}
